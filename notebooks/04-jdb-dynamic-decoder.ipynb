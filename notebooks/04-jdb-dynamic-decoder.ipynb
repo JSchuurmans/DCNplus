{
 "cells": [
  {
   "cell_type": "code",
   "execution_count": 2,
   "metadata": {},
   "outputs": [],
   "source": [
    "import numpy as np\n",
    "import torch\n",
    "import torch.nn as nn\n",
    "\n",
    "from torch.autograd import Variable"
   ]
  },
  {
   "cell_type": "markdown",
   "metadata": {},
   "source": [
    "## Dynamic Pointing Decoder\n",
    "\n",
    "#### Input\n",
    "We have encoded the information from a question-document pair in the coatttention encoding matrix U. U is of shape 2 * length of the word vectors x words in the document. For the moment, we'll assume U is of shape 600 x 600 since our word vectors have length 300 and the max sequence length is set at 600. In this notebook, we'll start using a dummy U of these dimensions. \n",
    "\n",
    "#### Decoder\n",
    "The decoder iteratively estimates the answer span by alternating between predicting the start and end points. It consists of standard LSTM cells as well as Highway Maxout Networks. Actually, it's two networks: one that estimates the start point, and one that estimates the end point. The networks are identical in architecture, but do not share parameters. In the big picture, we alternate between these two networks to get our answer span. As the networks are identical, we'll refer to them as the network.\n",
    "\n",
    "#### Maxout Networks\n",
    "[EXPLANATION ON MAXOUT NETWORKS HERE]\n",
    "\n",
    "#### Highway Networks\n",
    "[EXPLANATION ON HIGHWAY NETWORKS HERE]\n",
    "\n",
    "#### Maxout Highway Networks\n",
    "[EXPLANATION ON MAXOUT HIGHWAY NETWORKS HERE]\n",
    "\n",
    "#### Cell inputs\n",
    "The network outputs start and end scores for each word in the document and the final estimate is just the argmax of that list. How these individual scores are computed is the tricky part. The score for one word is the output of a Highway Maxout Network, which takes in the coattention encoding of that word, the hidden state of the model (we'll get back to this), the coattention encoding of the previous start point estimate, and the coattention encoding of the previous end point estimate. \n",
    "\n",
    "The hidden state of the LSTM, which is fed into the HMW, is dependent on the LSTM's previous hidden state, the coattention encoding of the previous start estimate, and the coattention encoding of the previous end estimate. Same as the HMN, except that it doesn't look at a specific word, but just keeps track of the hidden state. \n",
    "\n",
    "It's important to note these inputs (for the LSTM and the HMN) are the same for both (start and end) networks: the network estimating the start position takes into account the previous end point estimate, and vice versa. So they need to somehow communicate.\n",
    "\n",
    "#### HMN in detail\n",
    "Okay, let's have a shot at describing the HMN model in layman's terms.\n",
    "\n",
    "- First, we have a layer that puts together everything we have at the moment: the hidden state and the previous start and end estimates. These values are concatenated and multiplied by a weight matrix. Then we apply a tanh nonlinearity over the product.\n",
    "\n",
    "\n",
    "- The second layer concatenates the coattention encoding of the current word with the output of the tanh in the previous layer, puts it into a linear function (Wx +b) and takes the max over the first dimension of the resulting tensor. \n",
    "\n",
    "\n",
    "- The third layer takes the output of the second layer, puts it in a linearity and again applies a max over the first dimension of the product. Essentially the same as the second layer. \n",
    "\n",
    "\n",
    "- The fourth and last layer concatenates the outputs of both the second and third layer, and then does the same operation. The Highway part of the network just means that you use outputs from not just the layer before but also from earlier layers as input. (I think)\n",
    "\n",
    "\n",
    "- To train the network, we minimize the cumulative softmax cross entropy of the start and end points across all iterations. The iterative procedure halts when both the estimate of the start position and the estimate of the end position no longer change, or when a maximum number of iterations is reached. We set the maximum number of iterations to 4 and use a maxout pool size of 16."
   ]
  },
  {
   "cell_type": "code",
   "execution_count": 3,
   "metadata": {},
   "outputs": [],
   "source": [
    "# Define inputs\n",
    "m = 600\n",
<<<<<<< HEAD
    "l = 200\n",
=======
    "l = 300\n",
>>>>>>> c97ad260fa3a3fbdbb19fc3542599c844b995584
    "\n",
    "U = Variable(torch.rand(2*l, m), requires_grad=True)"
   ]
  },
  {
   "cell_type": "code",
   "execution_count": 4,
   "metadata": {},
<<<<<<< HEAD
   "outputs": [
    {
     "data": {
      "text/plain": [
       "torch.Size([400, 600])"
      ]
     },
     "execution_count": 4,
     "metadata": {},
     "output_type": "execute_result"
    }
   ],
   "source": [
    "U.size()"
   ]
  },
  {
   "cell_type": "code",
   "execution_count": 5,
   "metadata": {},
=======
>>>>>>> c97ad260fa3a3fbdbb19fc3542599c844b995584
   "outputs": [],
   "source": [
    "# # Define state LSTM\n",
    "\n",
    "# class LSTM(nn.Module):\n",
    "    \n",
    "#     def __init__(self, input_size, hidden_size, num_layers):\n",
    "#         super(LSTM, self).__init__()\n",
    "#         self.lstm = nn.LSTM(4*input_size, hidden_size, num_layers)\n",
    "        \n",
    "#     def forward(self, u_start_prev, u_end_prev):\n",
    "#         x = torch.cat((u_start_prev, u_end_prev))\n",
    "#         out, (h_n, c_n) = self.lstm(x)\n",
    "#         return h_n"
   ]
  },
  {
   "cell_type": "code",
<<<<<<< HEAD
   "execution_count": 6,
=======
   "execution_count": 5,
>>>>>>> c97ad260fa3a3fbdbb19fc3542599c844b995584
   "metadata": {},
   "outputs": [],
   "source": [
    "class MaxOut(nn.Module):\n",
    "\n",
    "    def __init__(self, input_size, output_size, pool_size):\n",
    "        super().__init__()\n",
    "        self.input_size, self.output_size, self.pool_size = input_size, output_size, pool_size\n",
    "        self.lin = nn.Linear(input_size, output_size * pool_size)\n",
    "\n",
    "    def forward(self, inputs):\n",
    "        shape = list(inputs.size())\n",
    "        shape[-1] = self.output_size\n",
    "        shape.append(self.pool_size)\n",
    "        max_dim = len(shape) - 1\n",
    "        out = self.lin(inputs)\n",
    "        m, i = out.view(*shape).max(max_dim)\n",
    "        return m"
   ]
  },
  {
   "cell_type": "code",
<<<<<<< HEAD
   "execution_count": 20,
=======
   "execution_count": 6,
>>>>>>> c97ad260fa3a3fbdbb19fc3542599c844b995584
   "metadata": {},
   "outputs": [],
   "source": [
    "# Define HMN\n",
    "\n",
    "class HMN(nn.Module):\n",
    "    \n",
    "    def __init__(self, input_size, pool_size):\n",
    "        super(HMN, self).__init__()\n",
    "        \n",
    "        self.r_linear = nn.Linear(5*input_size, input_size, bias=False)\n",
    "        self.r_tanh = nn.Tanh()\n",
    "        \n",
    "        self.m1 = MaxOut(3*input_size, input_size, pool_size)\n",
    "        self.m2 = MaxOut(input_size, input_size, pool_size)\n",
    "        self.m3 = MaxOut(2*input_size, 1, pool_size)\n",
    "        \n",
    "    def forward(self, h_i, u_t, u_start_prev, u_end_prev):\n",
<<<<<<< HEAD
    "        print(h_i.size(), u_start_prev.size(), u_end_prev.size())\n",
    "        hi_us_ue = torch.cat((h_i, u_start_prev, u_end_prev), dim=1)\n",
    "        print(hi_us_ue.size())\n",
=======
    "        hi_us_ue = torch.cat((h_i, u_start_prev, u_end_prev))\n",
>>>>>>> c97ad260fa3a3fbdbb19fc3542599c844b995584
    "        r = self.r_linear(hi_us_ue)\n",
    "        r = self.r_tanh(r)\n",
    "        \n",
    "        u_r = torch.cat((u_t, r))\n",
    "        m1 = self.m1(u_r)\n",
    "        m2 = self.m2(m1)\n",
    "        \n",
    "        m1_m2 = torch.cat((m1, m2))\n",
    "        m3 = self.m3(m1_m2)\n",
    "        out = np.argmax(m3)\n",
    "        return out"
   ]
  },
  {
   "cell_type": "code",
<<<<<<< HEAD
   "execution_count": null,
   "metadata": {},
   "outputs": [],
   "source": [
    "\n",
    "hi = torch.Size([1, 1, 200]) \n",
    "u_start_prev = torch.Size([32, 400]) \n",
    "u_end_prev = torch.Size([32, 400])\n",
    "\n",
    "hi_us_ue = torch.Size([32, 1000])"
   ]
  },
  {
   "cell_type": "code",
   "execution_count": 21,
=======
   "execution_count": 7,
>>>>>>> c97ad260fa3a3fbdbb19fc3542599c844b995584
   "metadata": {},
   "outputs": [],
   "source": [
    "# Define full decoder network\n",
    "\n",
    "class Decoder(nn.Module):\n",
    "    \n",
    "    def __init__(self, input_size, hidden_size, pool_size, num_layers):\n",
    "        super(Decoder, self).__init__()\n",
    "        \n",
    "        self.lstm = nn.LSTM(4*input_size, hidden_size, num_layers)\n",
    "        self.hmn = HMN(input_size, pool_size)\n",
    "        \n",
    "    def forward(self, u_t, u_start_prev, u_end_prev):\n",
<<<<<<< HEAD
    "        x = torch.cat((u_start_prev, u_end_prev), dim=1)\n",
    "        x = x.view(32, 1, 4*l)\n",
    "        # x should be [batchsize x 4l x 1]\n",
    "        # or [batchsize x 1 x 4l]??\n",
    "        _, (h_t, _) = self.lstm(x)\n",
=======
    "        x = torch.cat((u_start_prev, u_end_prev))\n",
    "        _, (h_t, _) = self.lstm(x)\n",
    "        \n",
>>>>>>> c97ad260fa3a3fbdbb19fc3542599c844b995584
    "        out = self.hmn(h_t, u_t, u_start_prev, u_end_prev)\n",
    "        return out"
   ]
  },
  {
   "cell_type": "code",
<<<<<<< HEAD
   "execution_count": 22,
=======
   "execution_count": 8,
>>>>>>> c97ad260fa3a3fbdbb19fc3542599c844b995584
   "metadata": {},
   "outputs": [],
   "source": [
    "# Model setup\n",
    "num_layers = 2\n",
    "\n",
    "batch_size = 32\n",
    "learning_rate = 0.0007\n",
    "num_epochs = 10\n",
    "\n",
<<<<<<< HEAD
    "model = Decoder(200, 200, 16, 1)\n",
=======
    "model = Decoder(300, 200, 16, 1)\n",
>>>>>>> c97ad260fa3a3fbdbb19fc3542599c844b995584
    "\n",
    "model.cuda()\n",
    "lossfun = nn.CrossEntropyLoss()\n",
    "\n",
    "optimizer = torch.optim.Adam(model.parameters(), lr=learning_rate)"
   ]
  },
  {
   "cell_type": "code",
<<<<<<< HEAD
   "execution_count": 23,
=======
   "execution_count": 21,
>>>>>>> c97ad260fa3a3fbdbb19fc3542599c844b995584
   "metadata": {},
   "outputs": [],
   "source": [
    "# Define inputs\n",
    "m = 600\n",
<<<<<<< HEAD
    "l = 200\n",
    "\n",
    "# make a single mock batch\n",
    "u_start_init = Variable(torch.rand(32, 2*l), requires_grad=True)\n",
    "u_end_init = Variable(torch.rand(32, 2*l), requires_grad=True)\n",
    "\n",
    "U = Variable(torch.rand(32, 2*l, m), requires_grad=True)\n",
    "y = Variable(torch.rand(32, 1), requires_grad=False)\n",
    "\n"
=======
    "l = 300\n",
    "\n",
    "# make a mock dataset\n",
    "train_data = []\n",
    "labels = []\n",
    "for i in range(10):\n",
    "    U = Variable(torch.rand(2*l, m), requires_grad=True)\n",
    "    y = np.random.randint(0, 50)\n",
    "    train_data.append(U)\n",
    "    labels.append(y)\n",
    "    \n",
    "u_start_init = Variable(torch.rand(2*l), requires_grad=True)\n",
    "u_end_init = Variable(torch.rand(2*l), requires_grad=True)\n"
>>>>>>> c97ad260fa3a3fbdbb19fc3542599c844b995584
   ]
  },
  {
   "cell_type": "code",
<<<<<<< HEAD
   "execution_count": 24,
=======
   "execution_count": 19,
>>>>>>> c97ad260fa3a3fbdbb19fc3542599c844b995584
   "metadata": {},
   "outputs": [],
   "source": [
    "num_epochs=1"
   ]
  },
  {
   "cell_type": "code",
<<<<<<< HEAD
   "execution_count": 25,
   "metadata": {},
   "outputs": [
    {
     "name": "stdout",
     "output_type": "stream",
     "text": [
      "torch.Size([1, 1, 200]) torch.Size([32, 400]) torch.Size([32, 400])\n"
     ]
    },
    {
     "ename": "RuntimeError",
     "evalue": "inconsistent tensor sizes at d:\\pytorch\\pytorch\\torch\\lib\\thc\\generic/THCTensorMath.cu:157",
=======
   "execution_count": 22,
   "metadata": {},
   "outputs": [
    {
     "ename": "RuntimeError",
     "evalue": "invalid argument 2: dimension 1 out of range of 1D tensor at d:\\pytorch\\pytorch\\torch\\lib\\th\\generic/THTensor.c:24",
>>>>>>> c97ad260fa3a3fbdbb19fc3542599c844b995584
     "output_type": "error",
     "traceback": [
      "\u001b[1;31m---------------------------------------------------------------------------\u001b[0m",
      "\u001b[1;31mRuntimeError\u001b[0m                              Traceback (most recent call last)",
      "\u001b[1;32m<timed exec>\u001b[0m in \u001b[0;36m<module>\u001b[1;34m()\u001b[0m\n",
      "\u001b[1;32m~\\AppData\\Local\\Continuum\\Anaconda3\\envs\\deep-learning-env\\lib\\site-packages\\torch\\nn\\modules\\module.py\u001b[0m in \u001b[0;36m__call__\u001b[1;34m(self, *input, **kwargs)\u001b[0m\n\u001b[0;32m    323\u001b[0m         \u001b[1;32mfor\u001b[0m \u001b[0mhook\u001b[0m \u001b[1;32min\u001b[0m \u001b[0mself\u001b[0m\u001b[1;33m.\u001b[0m\u001b[0m_forward_pre_hooks\u001b[0m\u001b[1;33m.\u001b[0m\u001b[0mvalues\u001b[0m\u001b[1;33m(\u001b[0m\u001b[1;33m)\u001b[0m\u001b[1;33m:\u001b[0m\u001b[1;33m\u001b[0m\u001b[0m\n\u001b[0;32m    324\u001b[0m             \u001b[0mhook\u001b[0m\u001b[1;33m(\u001b[0m\u001b[0mself\u001b[0m\u001b[1;33m,\u001b[0m \u001b[0minput\u001b[0m\u001b[1;33m)\u001b[0m\u001b[1;33m\u001b[0m\u001b[0m\n\u001b[1;32m--> 325\u001b[1;33m         \u001b[0mresult\u001b[0m \u001b[1;33m=\u001b[0m \u001b[0mself\u001b[0m\u001b[1;33m.\u001b[0m\u001b[0mforward\u001b[0m\u001b[1;33m(\u001b[0m\u001b[1;33m*\u001b[0m\u001b[0minput\u001b[0m\u001b[1;33m,\u001b[0m \u001b[1;33m**\u001b[0m\u001b[0mkwargs\u001b[0m\u001b[1;33m)\u001b[0m\u001b[1;33m\u001b[0m\u001b[0m\n\u001b[0m\u001b[0;32m    326\u001b[0m         \u001b[1;32mfor\u001b[0m \u001b[0mhook\u001b[0m \u001b[1;32min\u001b[0m \u001b[0mself\u001b[0m\u001b[1;33m.\u001b[0m\u001b[0m_forward_hooks\u001b[0m\u001b[1;33m.\u001b[0m\u001b[0mvalues\u001b[0m\u001b[1;33m(\u001b[0m\u001b[1;33m)\u001b[0m\u001b[1;33m:\u001b[0m\u001b[1;33m\u001b[0m\u001b[0m\n\u001b[0;32m    327\u001b[0m             \u001b[0mhook_result\u001b[0m \u001b[1;33m=\u001b[0m \u001b[0mhook\u001b[0m\u001b[1;33m(\u001b[0m\u001b[0mself\u001b[0m\u001b[1;33m,\u001b[0m \u001b[0minput\u001b[0m\u001b[1;33m,\u001b[0m \u001b[0mresult\u001b[0m\u001b[1;33m)\u001b[0m\u001b[1;33m\u001b[0m\u001b[0m\n",
<<<<<<< HEAD
      "\u001b[1;32m<ipython-input-21-f7dfbb2d8a4a>\u001b[0m in \u001b[0;36mforward\u001b[1;34m(self, u_t, u_start_prev, u_end_prev)\u001b[0m\n\u001b[0;32m     15\u001b[0m         \u001b[1;31m# or [batchsize x 1 x 4l]??\u001b[0m\u001b[1;33m\u001b[0m\u001b[1;33m\u001b[0m\u001b[0m\n\u001b[0;32m     16\u001b[0m         \u001b[0m_\u001b[0m\u001b[1;33m,\u001b[0m \u001b[1;33m(\u001b[0m\u001b[0mh_t\u001b[0m\u001b[1;33m,\u001b[0m \u001b[0m_\u001b[0m\u001b[1;33m)\u001b[0m \u001b[1;33m=\u001b[0m \u001b[0mself\u001b[0m\u001b[1;33m.\u001b[0m\u001b[0mlstm\u001b[0m\u001b[1;33m(\u001b[0m\u001b[0mx\u001b[0m\u001b[1;33m)\u001b[0m\u001b[1;33m\u001b[0m\u001b[0m\n\u001b[1;32m---> 17\u001b[1;33m         \u001b[0mout\u001b[0m \u001b[1;33m=\u001b[0m \u001b[0mself\u001b[0m\u001b[1;33m.\u001b[0m\u001b[0mhmn\u001b[0m\u001b[1;33m(\u001b[0m\u001b[0mh_t\u001b[0m\u001b[1;33m,\u001b[0m \u001b[0mu_t\u001b[0m\u001b[1;33m,\u001b[0m \u001b[0mu_start_prev\u001b[0m\u001b[1;33m,\u001b[0m \u001b[0mu_end_prev\u001b[0m\u001b[1;33m)\u001b[0m\u001b[1;33m\u001b[0m\u001b[0m\n\u001b[0m\u001b[0;32m     18\u001b[0m         \u001b[1;32mreturn\u001b[0m \u001b[0mout\u001b[0m\u001b[1;33m\u001b[0m\u001b[0m\n",
      "\u001b[1;32m~\\AppData\\Local\\Continuum\\Anaconda3\\envs\\deep-learning-env\\lib\\site-packages\\torch\\nn\\modules\\module.py\u001b[0m in \u001b[0;36m__call__\u001b[1;34m(self, *input, **kwargs)\u001b[0m\n\u001b[0;32m    323\u001b[0m         \u001b[1;32mfor\u001b[0m \u001b[0mhook\u001b[0m \u001b[1;32min\u001b[0m \u001b[0mself\u001b[0m\u001b[1;33m.\u001b[0m\u001b[0m_forward_pre_hooks\u001b[0m\u001b[1;33m.\u001b[0m\u001b[0mvalues\u001b[0m\u001b[1;33m(\u001b[0m\u001b[1;33m)\u001b[0m\u001b[1;33m:\u001b[0m\u001b[1;33m\u001b[0m\u001b[0m\n\u001b[0;32m    324\u001b[0m             \u001b[0mhook\u001b[0m\u001b[1;33m(\u001b[0m\u001b[0mself\u001b[0m\u001b[1;33m,\u001b[0m \u001b[0minput\u001b[0m\u001b[1;33m)\u001b[0m\u001b[1;33m\u001b[0m\u001b[0m\n\u001b[1;32m--> 325\u001b[1;33m         \u001b[0mresult\u001b[0m \u001b[1;33m=\u001b[0m \u001b[0mself\u001b[0m\u001b[1;33m.\u001b[0m\u001b[0mforward\u001b[0m\u001b[1;33m(\u001b[0m\u001b[1;33m*\u001b[0m\u001b[0minput\u001b[0m\u001b[1;33m,\u001b[0m \u001b[1;33m**\u001b[0m\u001b[0mkwargs\u001b[0m\u001b[1;33m)\u001b[0m\u001b[1;33m\u001b[0m\u001b[0m\n\u001b[0m\u001b[0;32m    326\u001b[0m         \u001b[1;32mfor\u001b[0m \u001b[0mhook\u001b[0m \u001b[1;32min\u001b[0m \u001b[0mself\u001b[0m\u001b[1;33m.\u001b[0m\u001b[0m_forward_hooks\u001b[0m\u001b[1;33m.\u001b[0m\u001b[0mvalues\u001b[0m\u001b[1;33m(\u001b[0m\u001b[1;33m)\u001b[0m\u001b[1;33m:\u001b[0m\u001b[1;33m\u001b[0m\u001b[0m\n\u001b[0;32m    327\u001b[0m             \u001b[0mhook_result\u001b[0m \u001b[1;33m=\u001b[0m \u001b[0mhook\u001b[0m\u001b[1;33m(\u001b[0m\u001b[0mself\u001b[0m\u001b[1;33m,\u001b[0m \u001b[0minput\u001b[0m\u001b[1;33m,\u001b[0m \u001b[0mresult\u001b[0m\u001b[1;33m)\u001b[0m\u001b[1;33m\u001b[0m\u001b[0m\n",
      "\u001b[1;32m<ipython-input-20-44c195bc68ea>\u001b[0m in \u001b[0;36mforward\u001b[1;34m(self, h_i, u_t, u_start_prev, u_end_prev)\u001b[0m\n\u001b[0;32m     15\u001b[0m     \u001b[1;32mdef\u001b[0m \u001b[0mforward\u001b[0m\u001b[1;33m(\u001b[0m\u001b[0mself\u001b[0m\u001b[1;33m,\u001b[0m \u001b[0mh_i\u001b[0m\u001b[1;33m,\u001b[0m \u001b[0mu_t\u001b[0m\u001b[1;33m,\u001b[0m \u001b[0mu_start_prev\u001b[0m\u001b[1;33m,\u001b[0m \u001b[0mu_end_prev\u001b[0m\u001b[1;33m)\u001b[0m\u001b[1;33m:\u001b[0m\u001b[1;33m\u001b[0m\u001b[0m\n\u001b[0;32m     16\u001b[0m         \u001b[0mprint\u001b[0m\u001b[1;33m(\u001b[0m\u001b[0mh_i\u001b[0m\u001b[1;33m.\u001b[0m\u001b[0msize\u001b[0m\u001b[1;33m(\u001b[0m\u001b[1;33m)\u001b[0m\u001b[1;33m,\u001b[0m \u001b[0mu_start_prev\u001b[0m\u001b[1;33m.\u001b[0m\u001b[0msize\u001b[0m\u001b[1;33m(\u001b[0m\u001b[1;33m)\u001b[0m\u001b[1;33m,\u001b[0m \u001b[0mu_end_prev\u001b[0m\u001b[1;33m.\u001b[0m\u001b[0msize\u001b[0m\u001b[1;33m(\u001b[0m\u001b[1;33m)\u001b[0m\u001b[1;33m)\u001b[0m\u001b[1;33m\u001b[0m\u001b[0m\n\u001b[1;32m---> 17\u001b[1;33m         \u001b[0mhi_us_ue\u001b[0m \u001b[1;33m=\u001b[0m \u001b[0mtorch\u001b[0m\u001b[1;33m.\u001b[0m\u001b[0mcat\u001b[0m\u001b[1;33m(\u001b[0m\u001b[1;33m(\u001b[0m\u001b[0mh_i\u001b[0m\u001b[1;33m,\u001b[0m \u001b[0mu_start_prev\u001b[0m\u001b[1;33m,\u001b[0m \u001b[0mu_end_prev\u001b[0m\u001b[1;33m)\u001b[0m\u001b[1;33m,\u001b[0m \u001b[0mdim\u001b[0m\u001b[1;33m=\u001b[0m\u001b[1;36m1\u001b[0m\u001b[1;33m)\u001b[0m\u001b[1;33m\u001b[0m\u001b[0m\n\u001b[0m\u001b[0;32m     18\u001b[0m         \u001b[0mprint\u001b[0m\u001b[1;33m(\u001b[0m\u001b[0mhi_us_ue\u001b[0m\u001b[1;33m.\u001b[0m\u001b[0msize\u001b[0m\u001b[1;33m(\u001b[0m\u001b[1;33m)\u001b[0m\u001b[1;33m)\u001b[0m\u001b[1;33m\u001b[0m\u001b[0m\n\u001b[0;32m     19\u001b[0m         \u001b[0mr\u001b[0m \u001b[1;33m=\u001b[0m \u001b[0mself\u001b[0m\u001b[1;33m.\u001b[0m\u001b[0mr_linear\u001b[0m\u001b[1;33m(\u001b[0m\u001b[0mhi_us_ue\u001b[0m\u001b[1;33m)\u001b[0m\u001b[1;33m\u001b[0m\u001b[0m\n",
      "\u001b[1;31mRuntimeError\u001b[0m: inconsistent tensor sizes at d:\\pytorch\\pytorch\\torch\\lib\\thc\\generic/THCTensorMath.cu:157"
=======
      "\u001b[1;32m<ipython-input-7-2a7404651a04>\u001b[0m in \u001b[0;36mforward\u001b[1;34m(self, u_t, u_start_prev, u_end_prev)\u001b[0m\n\u001b[0;32m     11\u001b[0m     \u001b[1;32mdef\u001b[0m \u001b[0mforward\u001b[0m\u001b[1;33m(\u001b[0m\u001b[0mself\u001b[0m\u001b[1;33m,\u001b[0m \u001b[0mu_t\u001b[0m\u001b[1;33m,\u001b[0m \u001b[0mu_start_prev\u001b[0m\u001b[1;33m,\u001b[0m \u001b[0mu_end_prev\u001b[0m\u001b[1;33m)\u001b[0m\u001b[1;33m:\u001b[0m\u001b[1;33m\u001b[0m\u001b[0m\n\u001b[0;32m     12\u001b[0m         \u001b[0mx\u001b[0m \u001b[1;33m=\u001b[0m \u001b[0mtorch\u001b[0m\u001b[1;33m.\u001b[0m\u001b[0mcat\u001b[0m\u001b[1;33m(\u001b[0m\u001b[1;33m(\u001b[0m\u001b[0mu_start_prev\u001b[0m\u001b[1;33m,\u001b[0m \u001b[0mu_end_prev\u001b[0m\u001b[1;33m)\u001b[0m\u001b[1;33m)\u001b[0m\u001b[1;33m\u001b[0m\u001b[0m\n\u001b[1;32m---> 13\u001b[1;33m         \u001b[0m_\u001b[0m\u001b[1;33m,\u001b[0m \u001b[1;33m(\u001b[0m\u001b[0mh_t\u001b[0m\u001b[1;33m,\u001b[0m \u001b[0m_\u001b[0m\u001b[1;33m)\u001b[0m \u001b[1;33m=\u001b[0m \u001b[0mself\u001b[0m\u001b[1;33m.\u001b[0m\u001b[0mlstm\u001b[0m\u001b[1;33m(\u001b[0m\u001b[0mx\u001b[0m\u001b[1;33m)\u001b[0m\u001b[1;33m\u001b[0m\u001b[0m\n\u001b[0m\u001b[0;32m     14\u001b[0m \u001b[1;33m\u001b[0m\u001b[0m\n\u001b[0;32m     15\u001b[0m         \u001b[0mout\u001b[0m \u001b[1;33m=\u001b[0m \u001b[0mself\u001b[0m\u001b[1;33m.\u001b[0m\u001b[0mhmn\u001b[0m\u001b[1;33m(\u001b[0m\u001b[0mh_t\u001b[0m\u001b[1;33m,\u001b[0m \u001b[0mu_t\u001b[0m\u001b[1;33m,\u001b[0m \u001b[0mu_start_prev\u001b[0m\u001b[1;33m,\u001b[0m \u001b[0mu_end_prev\u001b[0m\u001b[1;33m)\u001b[0m\u001b[1;33m\u001b[0m\u001b[0m\n",
      "\u001b[1;32m~\\AppData\\Local\\Continuum\\Anaconda3\\envs\\deep-learning-env\\lib\\site-packages\\torch\\nn\\modules\\module.py\u001b[0m in \u001b[0;36m__call__\u001b[1;34m(self, *input, **kwargs)\u001b[0m\n\u001b[0;32m    323\u001b[0m         \u001b[1;32mfor\u001b[0m \u001b[0mhook\u001b[0m \u001b[1;32min\u001b[0m \u001b[0mself\u001b[0m\u001b[1;33m.\u001b[0m\u001b[0m_forward_pre_hooks\u001b[0m\u001b[1;33m.\u001b[0m\u001b[0mvalues\u001b[0m\u001b[1;33m(\u001b[0m\u001b[1;33m)\u001b[0m\u001b[1;33m:\u001b[0m\u001b[1;33m\u001b[0m\u001b[0m\n\u001b[0;32m    324\u001b[0m             \u001b[0mhook\u001b[0m\u001b[1;33m(\u001b[0m\u001b[0mself\u001b[0m\u001b[1;33m,\u001b[0m \u001b[0minput\u001b[0m\u001b[1;33m)\u001b[0m\u001b[1;33m\u001b[0m\u001b[0m\n\u001b[1;32m--> 325\u001b[1;33m         \u001b[0mresult\u001b[0m \u001b[1;33m=\u001b[0m \u001b[0mself\u001b[0m\u001b[1;33m.\u001b[0m\u001b[0mforward\u001b[0m\u001b[1;33m(\u001b[0m\u001b[1;33m*\u001b[0m\u001b[0minput\u001b[0m\u001b[1;33m,\u001b[0m \u001b[1;33m**\u001b[0m\u001b[0mkwargs\u001b[0m\u001b[1;33m)\u001b[0m\u001b[1;33m\u001b[0m\u001b[0m\n\u001b[0m\u001b[0;32m    326\u001b[0m         \u001b[1;32mfor\u001b[0m \u001b[0mhook\u001b[0m \u001b[1;32min\u001b[0m \u001b[0mself\u001b[0m\u001b[1;33m.\u001b[0m\u001b[0m_forward_hooks\u001b[0m\u001b[1;33m.\u001b[0m\u001b[0mvalues\u001b[0m\u001b[1;33m(\u001b[0m\u001b[1;33m)\u001b[0m\u001b[1;33m:\u001b[0m\u001b[1;33m\u001b[0m\u001b[0m\n\u001b[0;32m    327\u001b[0m             \u001b[0mhook_result\u001b[0m \u001b[1;33m=\u001b[0m \u001b[0mhook\u001b[0m\u001b[1;33m(\u001b[0m\u001b[0mself\u001b[0m\u001b[1;33m,\u001b[0m \u001b[0minput\u001b[0m\u001b[1;33m,\u001b[0m \u001b[0mresult\u001b[0m\u001b[1;33m)\u001b[0m\u001b[1;33m\u001b[0m\u001b[0m\n",
      "\u001b[1;32m~\\AppData\\Local\\Continuum\\Anaconda3\\envs\\deep-learning-env\\lib\\site-packages\\torch\\nn\\modules\\rnn.py\u001b[0m in \u001b[0;36mforward\u001b[1;34m(self, input, hx)\u001b[0m\n\u001b[0;32m    136\u001b[0m         \u001b[1;32melse\u001b[0m\u001b[1;33m:\u001b[0m\u001b[1;33m\u001b[0m\u001b[0m\n\u001b[0;32m    137\u001b[0m             \u001b[0mbatch_sizes\u001b[0m \u001b[1;33m=\u001b[0m \u001b[1;32mNone\u001b[0m\u001b[1;33m\u001b[0m\u001b[0m\n\u001b[1;32m--> 138\u001b[1;33m             \u001b[0mmax_batch_size\u001b[0m \u001b[1;33m=\u001b[0m \u001b[0minput\u001b[0m\u001b[1;33m.\u001b[0m\u001b[0msize\u001b[0m\u001b[1;33m(\u001b[0m\u001b[1;36m0\u001b[0m\u001b[1;33m)\u001b[0m \u001b[1;32mif\u001b[0m \u001b[0mself\u001b[0m\u001b[1;33m.\u001b[0m\u001b[0mbatch_first\u001b[0m \u001b[1;32melse\u001b[0m \u001b[0minput\u001b[0m\u001b[1;33m.\u001b[0m\u001b[0msize\u001b[0m\u001b[1;33m(\u001b[0m\u001b[1;36m1\u001b[0m\u001b[1;33m)\u001b[0m\u001b[1;33m\u001b[0m\u001b[0m\n\u001b[0m\u001b[0;32m    139\u001b[0m \u001b[1;33m\u001b[0m\u001b[0m\n\u001b[0;32m    140\u001b[0m         \u001b[1;32mif\u001b[0m \u001b[0mhx\u001b[0m \u001b[1;32mis\u001b[0m \u001b[1;32mNone\u001b[0m\u001b[1;33m:\u001b[0m\u001b[1;33m\u001b[0m\u001b[0m\n",
      "\u001b[1;31mRuntimeError\u001b[0m: invalid argument 2: dimension 1 out of range of 1D tensor at d:\\pytorch\\pytorch\\torch\\lib\\th\\generic/THTensor.c:24"
>>>>>>> c97ad260fa3a3fbdbb19fc3542599c844b995584
     ]
    }
   ],
   "source": [
    "%%time\n",
    "\n",
    "u_start_prev = u_start_init\n",
    "u_end_prev = u_end_init\n",
<<<<<<< HEAD
    "u_start_prev = u_start_prev.cuda()\n",
    "u_end_prev = u_end_prev.cuda()\n",
    "\n",
    "\n",
    "for epoch in range(num_epochs):\n",
    "#     for i, U in enumerate(train_data):\n",
    "    x = U\n",
    "    x = x.cuda()\n",
    "    \n",
    "    y =y \n",
    "    output = model(x, u_start_prev, u_end_prev)\n",
    "\n",
    "    optimizer.zero_grad()\n",
    "\n",
    "    loss = lossfun(output[0], y)\n",
    "    loss.backward()\n",
    "\n",
    "    u_start_prev = U[output:] # row or column??\n",
    "    u_end_prev = U[output+6:] # hacky way of setting the end point estimate\n",
    "\n",
    "    optimizer.step()\n",
    "    if (i+1)%100 == 0:\n",
    "        print('Epoch [%d/%d], Step[%d/%d], Loss: %0.4f'\n",
    "        %(epoch+1, num_epochs, i+1, len(data)//batch_size, loss.data[0]))"
=======
    "\n",
    "for epoch in range(num_epochs):\n",
    "    for i, U in enumerate(train_data):\n",
    "        x = U\n",
    "        x = x.cuda()\n",
    "        y = labels[i]\n",
    "        output = model(x, u_start_prev, u_end_prev)\n",
    "    \n",
    "        optimizer.zero_grad()\n",
    "\n",
    "        loss = lossfun(output[0], y)\n",
    "        loss.backward()\n",
    "\n",
    "        u_start_prev = U[output:] # row or column??\n",
    "        u_end_prev = U[output+6:] # hacky way of setting the end point estimate\n",
    "        \n",
    "        optimizer.step()\n",
    "        if (i+1)%100 == 0:\n",
    "            print('Epoch [%d/%d], Step[%d/%d], Loss: %0.4f'\n",
    "            %(epoch+1, num_epochs, i+1, len(data)//batch_size, loss.data[0]))"
>>>>>>> c97ad260fa3a3fbdbb19fc3542599c844b995584
   ]
  },
  {
   "cell_type": "markdown",
   "metadata": {},
   "source": [
    "We use a max sequence length of 600 during training and a hidden state size of 200 for all recurrent units, maxout layers, and linear layers\n",
    "\n",
    "- Do linear layers have hidden units? Do maxout layers have hidden units??"
   ]
  },
  {
   "cell_type": "code",
   "execution_count": null,
   "metadata": {},
   "outputs": [],
   "source": []
  }
 ],
 "metadata": {
  "kernelspec": {
   "display_name": "Python 3",
   "language": "python",
   "name": "python3"
  },
  "language_info": {
   "codemirror_mode": {
    "name": "ipython",
    "version": 3
   },
   "file_extension": ".py",
   "mimetype": "text/x-python",
   "name": "python",
   "nbconvert_exporter": "python",
   "pygments_lexer": "ipython3",
   "version": "3.5.4"
  }
 },
 "nbformat": 4,
 "nbformat_minor": 2
}
