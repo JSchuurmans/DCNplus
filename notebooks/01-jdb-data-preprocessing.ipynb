{
 "cells": [
  {
   "cell_type": "markdown",
   "metadata": {},
   "source": [
    "## Notebook summary\n",
    "\n",
    "In this notebook, we perform the necessary data preprocessing. This consists of the following components:\n",
    "\n",
    "    - Loading the SQuAD data\n",
    "    - Tokenization with Stanford CoreNLP\n",
    "    - Embeddings with GloVe, pretrained on 840B Common Crawl, fixed\n",
    "\n",
    "In the end, we require a 2 x n array containing the input data and target for each question-answer pair. The target here is [UNRESOLVED, see questions]. The input data for each example consists of a paragraph and a question, and each are encoded in word vectors. This means both are matrices of p x l and q x l, where p is the number of words in the paragraph, l the length of the word embeddings, and q the number of words in the question. Whether these can be concatenated or should be separate items in an array is [UNRESOLVED, see questions]"
   ]
  },
  {
   "cell_type": "markdown",
   "metadata": {},
   "source": [
    "## Questions to resolve:\n",
    "\n",
    "- Should the target answer in training be text or two indices? Same goes for the model output. \n",
    "    - Assumption: should be text\n",
    "\n",
    "It seems that the model should output start and end indices for the span of the answer, but is evaluated on the words contained in the span. If this is the case, there has to be a step between model output and evaluation, where the two indices are converted to words in the span. \n",
    "\n",
    "- Where should this conversion from indices to words take place?\n",
    "\n",
    "- Can the document and question embedding matrices be concatenated or should they be passed as separate list items?\n",
    "- Why do we need the answer_start flag if we only match the output text with the target text?\n",
    "- Should the target answer texts be tokenized too?\n",
    "- Should we make full words out of tokenized contractions? (e.g. you're -> you, are | you're -> you, 're)\n",
    "    - Assumption: No, we stick with the original tokens and hope that they're in GloVe"
   ]
  },
  {
   "cell_type": "code",
   "execution_count": 99,
   "metadata": {},
   "outputs": [],
   "source": [
    "import pandas as pd\n",
    "import numpy as np\n",
    "import pickle\n",
    "\n",
    "from pycorenlp import StanfordCoreNLP\n",
    "\n",
    "nlp = StanfordCoreNLP('http://localhost:9000') # Set server url \n",
    "# If server is offline, run the command below in Terminal from the stanford CoreNLP folder\n",
    "# java -mx4g -cp \"*\" edu.stanford.nlp.pipeline.StanfordCoreNLPServer -port 9000 -timeout 15000\n"
   ]
  },
  {
   "cell_type": "code",
   "execution_count": 75,
   "metadata": {},
   "outputs": [],
   "source": [
    "squad = pd.read_json('../data/train-v1.1.json', orient='records')"
   ]
  },
  {
   "cell_type": "code",
   "execution_count": 76,
   "metadata": {},
   "outputs": [
    {
     "data": {
      "text/plain": [
       "(442, 2)"
      ]
     },
     "execution_count": 76,
     "metadata": {},
     "output_type": "execute_result"
    }
   ],
   "source": [
    "squad.shape"
   ]
  },
  {
   "cell_type": "markdown",
   "metadata": {},
   "source": [
    "Okay, so we need to extract a couple of things:\n",
    "    - answers, which are just texts (that should be tokenized? [UNRESOLVED, see questions])\n",
    "    - questions, which should be tokenized and embedded\n",
    "    - paragraphs, which should be tokenized and embedded"
   ]
  },
  {
   "cell_type": "markdown",
   "metadata": {},
   "source": [
    "### The Stanford CoreNLP Tokenizer"
   ]
  },
  {
   "cell_type": "code",
   "execution_count": 79,
   "metadata": {},
   "outputs": [],
   "source": [
    "def tokenize(text, annotator=nlp):\n",
    "    \"\"\"\n",
    "    Calls the Stanford CoreNLP Tokenizer running on a local server, which tokenizes the input text.\n",
    "    \n",
    "    Returns:\n",
    "    Tokenized text\n",
    "    \"\"\"\n",
    "    annotated_text = annotator.annotate(text, properties={'annotators': 'tokenize', \"outputFormat\": \"json\"})\n",
    "    tokenized_text = []\n",
    "    for token in annotated_text['tokens']:\n",
    "        word = token['word']\n",
    "        tokenized_text.append(word)\n",
    "        \n",
    "    return tokenized_text"
   ]
  },
  {
   "cell_type": "markdown",
   "metadata": {},
   "source": [
    "### The GloVe word embeddings\n",
    "\n",
    "From the DCN paper:\n",
    "\n",
    "\"We use as GloVe word vectors pretrained\n",
    "on the 840B Common Crawl corpus (Pennington et al., 2014). We limit the vocabulary\n",
    "to words that are present in the Common Crawl corpus and set embeddings for out-of-vocabulary\n",
    "words to zero. Empirically, we found that training the embeddings consistently led to overfitting and\n",
    "subpar performance, and hence only report results with fixed word embeddings.\"\n",
    "\n",
    "\n",
    "When reading in the GloVe vectors, we found that some vectors were the wrong length and contained odd words (such as name@example.com) and values (such as '.'). We don't know whether this is intrinsic to the data or whether we import it wrong. Either way, out of the 2196016 total lines, 29 were of the wrong length. We therefore decided to drop those 29 vectors and set the embeddings for the corresponding words to 0. \n"
   ]
  },
  {
   "cell_type": "code",
   "execution_count": 64,
   "metadata": {},
   "outputs": [],
   "source": [
    "glove_file_path = \"../data/glove.840B.300d.txt\"\n",
    "\n",
    "def load_glove_embeddings(file_path):\n",
    "    \"\"\"\n",
    "    Loads the glove word vectors from a textfile and parses it into a dictionary with words and vectors.\n",
    "    \n",
    "    Returns:\n",
    "    A dictionary of words and corresponding vectors\n",
    "    \"\"\"\n",
    "    \n",
    "    print(\"Loading Glove Model\")\n",
    "    with open(file_path,'r', encoding=\"utf8\") as f:\n",
    "        embeddings_dict = {}\n",
    "        cnt = 0\n",
    "        for i, line in enumerate(f):\n",
    "            \n",
    "            split_line = line.split()\n",
    "            \n",
    "            # Skip aberrant lines\n",
    "            if not len(split_line) == 301:\n",
    "                continue \n",
    "\n",
    "            word = split_line[0]\n",
    "            embedding = np.array([float(val) for val in split_line[1:]])\n",
    "            embeddings_dict[word] = embedding\n",
    "            \n",
    "        print(\"Done. {} words loaded!\".format(len(embeddings_dict)))\n",
    "    return embeddings_dict\n"
   ]
  },
  {
   "cell_type": "code",
   "execution_count": 65,
   "metadata": {
    "scrolled": true
   },
   "outputs": [
    {
     "name": "stdout",
     "output_type": "stream",
     "text": [
      "Loading Glove Model\n",
      "Done. 2195875 words loaded!\n"
     ]
    }
   ],
   "source": [
    "embeddings = load_glove_embeddings(glove_file_path)"
   ]
  },
  {
   "cell_type": "code",
   "execution_count": 70,
   "metadata": {},
   "outputs": [],
   "source": [
    "def embed(words, embeddings):\n",
    "    \"\"\"\n",
    "    Takes words and returns corresponding GloVe word embeddings. Returns a zero vector if no embedding is found.\n",
    "    \n",
    "    Returns:\n",
    "    List of word vectors\n",
    "    \"\"\"\n",
    "    word_vectors = []\n",
    "    \n",
    "    for word in words:\n",
    "        # Match word with vector\n",
    "        try:\n",
    "            vector = embeddings[word]\n",
    "        except KeyError:\n",
    "            # Set to zero vector if no match\n",
    "            vector = np.zeros(300)\n",
    "            \n",
    "        word_vectors.append(vector)\n",
    "    \n",
    "    return word_vectors"
   ]
  },
  {
   "cell_type": "code",
   "execution_count": 112,
   "metadata": {},
   "outputs": [],
   "source": [
    "# Preprocess paragraphs, questions, and answers\n",
    "\n",
    "def preprocess(dataset):\n",
    "    \"\"\"\n",
    "    Parses the dataset, extracts questions, paragraphs, and answers. Also tokenizes \n",
    "    and applies GloVe embeddings to the questions and paragraphs.\n",
    "    \n",
    "    Returns: \n",
    "    All three processed components in a nested list of the form \n",
    "    [[paragraph, question], answer]\n",
    "    \"\"\"\n",
    "    data_answers = []\n",
    "    data_paragraphs = []\n",
    "    data_questions = []\n",
    "    for article in dataset:\n",
    "            for paragraph in article['paragraphs']:\n",
    "                \n",
    "                tokenized_paragraph = tokenize(paragraph['context'])\n",
    "                embedded_paragraph = embed(tokenized_paragraph, embeddings)\n",
    "                \n",
    "                for qa in paragraph['qas']:\n",
    "                    \n",
    "                    data_paragraphs.append(embedded_paragraph) # Include the embedded paragraph with every question\n",
    "                    \n",
    "                    question = qa['question']\n",
    "                    tokenized_question = tokenize(question)\n",
    "                    embedded_question = embed(tokenized_question, embeddings)\n",
    "                    data_questions.append(embedded_question)\n",
    "\n",
    "                    answers = list(map(lambda x: x['text'], qa['answers']))\n",
    "                    data_answers.append(answers)\n",
    "                    \n",
    "    return [[data_paragraphs, data_questions], data_answers]"
   ]
  },
  {
   "cell_type": "code",
   "execution_count": 119,
   "metadata": {},
   "outputs": [],
   "source": [
    "dataset = squad['data']\n",
    "training_data = preprocess(dataset)"
   ]
  },
  {
   "cell_type": "code",
   "execution_count": 120,
   "metadata": {},
   "outputs": [],
   "source": [
    "# Save dataset\n",
    "with open(\"..\\data\\\\training_data.txt\", \"wb\") as fp:\n",
    "    pickle.dump(training_data, fp)"
   ]
  },
  {
   "cell_type": "code",
   "execution_count": 121,
   "metadata": {},
   "outputs": [],
   "source": [
    "# Check if it saved correctly\n",
    "with open(\"..\\data\\\\training_data.txt\", \"rb\") as fp:   # Unpickling\n",
    "    tdata = pickle.load(fp)"
   ]
  }
 ],
 "metadata": {
  "kernelspec": {
   "display_name": "Python 3",
   "language": "python",
   "name": "python3"
  },
  "language_info": {
   "codemirror_mode": {
    "name": "ipython",
    "version": 3
   },
   "file_extension": ".py",
   "mimetype": "text/x-python",
   "name": "python",
   "nbconvert_exporter": "python",
   "pygments_lexer": "ipython3",
   "version": "3.5.4"
  }
 },
 "nbformat": 4,
 "nbformat_minor": 2
}
